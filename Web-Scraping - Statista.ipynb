{
 "cells": [
  {
   "cell_type": "markdown",
   "metadata": {},
   "source": [
    "# Web-Scraping - Statistiken von Statista downloaden\n",
    "© Thomas Robert Holy 2020\n",
    "<br>\n",
    "Version 1.0\n",
    "<br><br>\n",
    "Visit me on GitHub: https://github.com/trh0ly\n",
    "\n",
    "## Grundlegende Einstellungen:\n",
    "### Import von Modulen\n",
    "Zunächst müssen die notwendigen Module importiert werden, damit auf diese zugegriffen werden kann. "
   ]
  },
  {
   "cell_type": "code",
   "execution_count": 1,
   "metadata": {},
   "outputs": [],
   "source": [
    "\n",
    "#----------------\n",
    "# Web-Scraping\n",
    "from urllib.request import urlopen\n",
    "from bs4 import BeautifulSoup\n",
    "import requests\n",
    "import re\n",
    "import string\n",
    "\n",
    "#----------------\n",
    "# Forecast\n",
    "from statsmodels.tsa.seasonal import seasonal_decompose\n",
    "from pmdarima.arima import auto_arima\n",
    "import statsmodels.api as sm\n",
    "\n",
    "#----------------\n",
    "# Verschiedenes\n",
    "import matplotlib.pyplot as plt\n",
    "import matplotlib.patches as mpatches\n",
    "import pandas as pd\n",
    "import datetime\n",
    "from IPython.core.display import display, HTML\n"
   ]
  },
  {
   "cell_type": "markdown",
   "metadata": {},
   "source": [
    "### Optikeinstellungen\n",
    "Anschließend werden Einstellungen definiert, die die Formatierung der Ausgaben betreffen.\n",
    "Hierfür wird das Modul `operator` genutzt.\n",
    "Außerdem wird die Breite des im Folgenden genutzten DataFrames erhöht und die Größe der Grafiken modifiziert, welche später angezeigt werden sollen."
   ]
  },
  {
   "cell_type": "code",
   "execution_count": 2,
   "metadata": {},
   "outputs": [
    {
     "data": {
      "application/javascript": [
       "IPython.OutputArea.auto_scroll_threshold = 9999;\n"
      ],
      "text/plain": [
       "<IPython.core.display.Javascript object>"
      ]
     },
     "metadata": {},
     "output_type": "display_data"
    }
   ],
   "source": [
    "\n",
    "%%javascript\n",
    "IPython.OutputArea.auto_scroll_threshold = 9999;\n"
   ]
  },
  {
   "cell_type": "code",
   "execution_count": 3,
   "metadata": {},
   "outputs": [
    {
     "data": {
      "text/html": [
       "<style>.container { width:100% !important; }</style>"
      ],
      "text/plain": [
       "<IPython.core.display.HTML object>"
      ]
     },
     "metadata": {},
     "output_type": "display_data"
    }
   ],
   "source": [
    "\n",
    "display(HTML(\"<style>.container { width:100% !important; }</style>\"))\n",
    "pd.set_option('display.width', 350)\n",
    "plt.rcParams['figure.figsize'] = (36, 12) # macht die Plots größer\n"
   ]
  },
  {
   "cell_type": "markdown",
   "metadata": {},
   "source": [
    "## Datenbeschaffung und Manipulation\n",
    "### Web-Scraping historischer Daten von Statista\n",
    "Mittels Web-Scraping werden historische Daten zu Umsätzen verschiedener Unternehmen von Statista gedownloaded und aufbereitet, bevor diese in zwei separaten Listen gespeichert werden."
   ]
  },
  {
   "cell_type": "code",
   "execution_count": 4,
   "metadata": {},
   "outputs": [
    {
     "name": "stdout",
     "output_type": "stream",
     "text": [
      "[\"Q4'13\", \"Q1'14\", \"Q2'14\", \"Q3'14\", \"Q4'14\", \"Q1'15\", \"Q2'15\", \"Q3'15\", \"Q4'15\", \"Q1'16\", \"Q2'16\", \"Q3'16\", \"Q4'16\", \"Q1'17\", \"Q2'17\", \"Q3'17\", \"Q4'17\", \"Q1'18\", \"Q2'18\", \"Q3'18\", \"Q4'18\", \"Q1'19\", \"Q2'19\", \"Q3'19\", \"Q4'19\"]\n",
      "[18.745, 12.031, 15.771, 16.829, 26.179, 17.425, 20.245, 22.171, 34.543, 24.184, 32.154, 34.292, 53.248, 38.579, 50.184, 55.122, 83.028, 61.932, 80.92, 85.148, 117.278, 93.498, 114.924, 119.017, 161.456]\n"
     ]
    }
   ],
   "source": [
    "\n",
    "#----------------------------------------\n",
    "# Datensätze\n",
    "#----------------\n",
    "# Amazon\n",
    "#url = 'https://www.statista.com/statistics/273963/quarterly-revenue-of-amazoncom/'\n",
    "#----------------\n",
    "# Apple\n",
    "#url = 'https://www.statista.com/statistics/263427/apples-net-income-since-first-quarter-2005/'\n",
    "#----------------\n",
    "# Alibaba\n",
    "url = 'https://www.statista.com/statistics/323046/alibaba-quarterly-group-revenue/'\n",
    "\n",
    "#----------------------------------------\n",
    "# Daten beschaffen und Tabellen extrahieren\n",
    "html = requests.get(url)\n",
    "soup = BeautifulSoup(html.text, 'lxml')\n",
    "\n",
    "chart = soup.find(\"tbody\")\n",
    "children = chart.find_all(\"tr\")\n",
    "\n",
    "#----------------------------------------\n",
    "# Extrahierte Tabellen bereinigen\n",
    "data = []\n",
    "for tag in children:\n",
    "    data_tuple = (tag.text[:6],tag.text[6:])\n",
    "    data.append(data_tuple)\n",
    "\n",
    "quartals, revenues = [], []\n",
    "for i in range(0, len(data)):\n",
    "    x = data[i][0]\n",
    "    y = data[i][1]\n",
    "    quartal = x.replace(' ', '')\n",
    "    y = y.replace(',', '.')\n",
    "    revenue = float(y)\n",
    "    quartals.append(quartal)\n",
    "    revenues.append(revenue)\n",
    "\n",
    "#----------------------------------------\n",
    "# Reihenfolge der extrahierten Daten umkehren und ausgeben\n",
    "    \n",
    "quartals = quartals[::-1]\n",
    "revenues = revenues[::-1]\n",
    "print(quartals)\n",
    "print(revenues)\n"
   ]
  },
  {
   "cell_type": "markdown",
   "metadata": {},
   "source": [
    "### Weitere Modifikationen\n",
    "Die von der Website extrahierten Quartalskennzeichnungen in ein für datime interpretierbares Format überführt."
   ]
  },
  {
   "cell_type": "code",
   "execution_count": 5,
   "metadata": {},
   "outputs": [
    {
     "data": {
      "text/plain": [
       "['2013-Q4', '2014-Q1', '2014-Q2', '2014-Q3', '2014-Q4']"
      ]
     },
     "execution_count": 5,
     "metadata": {},
     "output_type": "execute_result"
    }
   ],
   "source": [
    "\n",
    "#----------------------------------------\n",
    "# Quartale in ein für datime interpretierbares Format überführen \n",
    "quartals_new = []\n",
    "for i in quartals:\n",
    "    x = '20' + str(i[3:])\n",
    "    y = i[:2]\n",
    "    z = str(x) + '-' + str(y)\n",
    "    quartals_new.append(z)\n",
    "    \n",
    "quartals_new[:5]\n"
   ]
  },
  {
   "cell_type": "markdown",
   "metadata": {},
   "source": [
    "## Erstellung eines DataFrames und Visualisierung\n",
    "### Generierung des DataFrames\n",
    "Es wird ein DataFrame erzeugt, welcher die Umsätze zum jeweiligen Quartal enthält. "
   ]
  },
  {
   "cell_type": "code",
   "execution_count": 6,
   "metadata": {},
   "outputs": [
    {
     "data": {
      "text/html": [
       "<div>\n",
       "<style scoped>\n",
       "    .dataframe tbody tr th:only-of-type {\n",
       "        vertical-align: middle;\n",
       "    }\n",
       "\n",
       "    .dataframe tbody tr th {\n",
       "        vertical-align: top;\n",
       "    }\n",
       "\n",
       "    .dataframe thead th {\n",
       "        text-align: right;\n",
       "    }\n",
       "</style>\n",
       "<table border=\"1\" class=\"dataframe\">\n",
       "  <thead>\n",
       "    <tr style=\"text-align: right;\">\n",
       "      <th></th>\n",
       "      <th>Periode</th>\n",
       "      <th>Umsatz</th>\n",
       "    </tr>\n",
       "  </thead>\n",
       "  <tbody>\n",
       "    <tr>\n",
       "      <td>20</td>\n",
       "      <td>2018-10-01</td>\n",
       "      <td>117.278</td>\n",
       "    </tr>\n",
       "    <tr>\n",
       "      <td>21</td>\n",
       "      <td>2019-01-01</td>\n",
       "      <td>93.498</td>\n",
       "    </tr>\n",
       "    <tr>\n",
       "      <td>22</td>\n",
       "      <td>2019-04-01</td>\n",
       "      <td>114.924</td>\n",
       "    </tr>\n",
       "    <tr>\n",
       "      <td>23</td>\n",
       "      <td>2019-07-01</td>\n",
       "      <td>119.017</td>\n",
       "    </tr>\n",
       "    <tr>\n",
       "      <td>24</td>\n",
       "      <td>2019-10-01</td>\n",
       "      <td>161.456</td>\n",
       "    </tr>\n",
       "  </tbody>\n",
       "</table>\n",
       "</div>"
      ],
      "text/plain": [
       "      Periode   Umsatz\n",
       "20 2018-10-01  117.278\n",
       "21 2019-01-01   93.498\n",
       "22 2019-04-01  114.924\n",
       "23 2019-07-01  119.017\n",
       "24 2019-10-01  161.456"
      ]
     },
     "execution_count": 6,
     "metadata": {},
     "output_type": "execute_result"
    }
   ],
   "source": [
    "\n",
    "#----------------------------------------\n",
    "# DataFrame mit bereinigten Daten erzeugen\n",
    "original_data = pd.DataFrame({'Periode':quartals_new, 'Umsatz':revenues})\n",
    "original_data['Periode'] = pd.to_datetime(original_data['Periode'].str.replace(r'(Q\\d) (\\d+)', r'\\2-\\1'), errors='coerce')\n",
    "original_data.tail()\n"
   ]
  },
  {
   "cell_type": "markdown",
   "metadata": {},
   "source": [
    "### Visualisierung der Daten\n",
    "Der DataFrame wird visualisiert."
   ]
  },
  {
   "cell_type": "code",
   "execution_count": 7,
   "metadata": {},
   "outputs": [
    {
     "data": {
      "text/plain": [
       "<matplotlib.axes._subplots.AxesSubplot at 0x2b223967408>"
      ]
     },
     "execution_count": 7,
     "metadata": {},
     "output_type": "execute_result"
    },
    {
     "data": {
      "image/png": "[encoded data removed]",
      "text/plain": [
       "<Figure size 864x576 with 1 Axes>"
      ]
     },
     "metadata": {
      "needs_background": "light"
     },
     "output_type": "display_data"
    }
   ],
   "source": [
    "\n",
    "#----------------------------------------\n",
    "# Plotten der Daten\n",
    "original_data.Umsatz.plot(figsize=(12,8), title='Revenues Apple', fontsize=20)\n"
   ]
  }
 ],
 "metadata": {
  "kernelspec": {
   "display_name": "Python 3",
   "language": "python",
   "name": "python3"
  },
  "language_info": {
   "codemirror_mode": {
    "name": "ipython",
    "version": 3
   },
   "file_extension": ".py",
   "mimetype": "text/x-python",
   "name": "python",
   "nbconvert_exporter": "python",
   "pygments_lexer": "ipython3",
   "version": "3.7.4"
  }
 },
 "nbformat": 4,
 "nbformat_minor": 2
}
